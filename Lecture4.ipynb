{
 "cells": [
  {
   "cell_type": "code",
   "execution_count": 1,
   "id": "074f4a05",
   "metadata": {},
   "outputs": [
    {
     "name": "stdout",
     "output_type": "stream",
     "text": [
      "Collecting gurobipy\n",
      "  Downloading gurobipy-10.0.1-cp38-cp38-win_amd64.whl (9.7 MB)\n",
      "Installing collected packages: gurobipy\n",
      "Successfully installed gurobipy-10.0.1\n",
      "Note: you may need to restart the kernel to use updated packages.\n"
     ]
    }
   ],
   "source": [
    "%pip install gurobipy"
   ]
  },
  {
   "cell_type": "code",
   "execution_count": 2,
   "id": "4dd6968a",
   "metadata": {},
   "outputs": [],
   "source": [
    "import gurobipy as gp"
   ]
  },
  {
   "cell_type": "code",
   "execution_count": 3,
   "id": "15b44ce5",
   "metadata": {},
   "outputs": [
    {
     "name": "stdout",
     "output_type": "stream",
     "text": [
      "Set parameter Username\n"
     ]
    }
   ],
   "source": [
    "# Create a new model\n",
    "m = gp.Model(\"lec4\")"
   ]
  },
  {
   "cell_type": "code",
   "execution_count": 4,
   "id": "0e920d8f",
   "metadata": {},
   "outputs": [],
   "source": [
    "# Create variables x and y\n",
    "x = m.addVar()\n",
    "y = m.addVar()"
   ]
  },
  {
   "cell_type": "code",
   "execution_count": 5,
   "id": "0e6cfc41",
   "metadata": {},
   "outputs": [
    {
     "name": "stdout",
     "output_type": "stream",
     "text": [
      "Gurobi Optimizer version 10.0.1 build v10.0.1rc0 (win64)\n",
      "\n",
      "CPU model: 11th Gen Intel(R) Core(TM) i7-1165G7 @ 2.80GHz, instruction set [SSE2|AVX|AVX2|AVX512]\n",
      "Thread count: 4 physical cores, 8 logical processors, using up to 8 threads\n",
      "\n",
      "Optimize a model with 5 rows, 2 columns and 8 nonzeros\n",
      "Model fingerprint: 0x790d374c\n",
      "Coefficient statistics:\n",
      "  Matrix range     [1e+00, 3e+00]\n",
      "  Objective range  [2e+00, 3e+00]\n",
      "  Bounds range     [0e+00, 0e+00]\n",
      "  RHS range        [2e+01, 4e+01]\n",
      "Presolve removed 2 rows and 0 columns\n",
      "Presolve time: 0.01s\n",
      "Presolved: 3 rows, 2 columns, 6 nonzeros\n",
      "\n",
      "Iteration    Objective       Primal Inf.    Dual Inf.      Time\n",
      "       0    3.6000000e+01   3.492500e+00   0.000000e+00      0s\n",
      "       2    3.3000000e+01   0.000000e+00   0.000000e+00      0s\n",
      "\n",
      "Solved in 2 iterations and 0.02 seconds (0.00 work units)\n",
      "Optimal objective  3.300000000e+01\n"
     ]
    }
   ],
   "source": [
    "# Optimize the following linear program\n",
    "# max 3x + 2y subject to\n",
    "# 2x + y <= 18\n",
    "# 2x + 3y <= 42\n",
    "# 3x + y <= 24\n",
    "# x, y >= 0\n",
    "m.setObjective(3 * x + 2 * y, gp.GRB.MAXIMIZE)\n",
    "m.addConstr(2 * x + y <= 18)\n",
    "m.addConstr(2 * x + 3 * y <= 42)\n",
    "m.addConstr(3 * x + y <= 24)\n",
    "m.addConstr(x >= 0)\n",
    "m.addConstr(y >= 0)\n",
    "m.optimize()"
   ]
  },
  {
   "cell_type": "code",
   "execution_count": 6,
   "id": "6d9959ba",
   "metadata": {},
   "outputs": [
    {
     "name": "stdout",
     "output_type": "stream",
     "text": [
      "Optimal objective value: 33.0\n",
      "Optimal x: 2.9999999999999996\n",
      "Optimal y: 12.0\n"
     ]
    }
   ],
   "source": [
    "# Show the optimal solution\n",
    "print(\"Optimal objective value:\", m.objVal)\n",
    "print(\"Optimal x:\", x.x)\n",
    "print(\"Optimal y:\", y.x)"
   ]
  },
  {
   "cell_type": "code",
   "execution_count": null,
   "id": "f493d6f4",
   "metadata": {},
   "outputs": [],
   "source": []
  }
 ],
 "metadata": {
  "kernelspec": {
   "display_name": "Python 3",
   "language": "python",
   "name": "python3"
  },
  "language_info": {
   "codemirror_mode": {
    "name": "ipython",
    "version": 3
   },
   "file_extension": ".py",
   "mimetype": "text/x-python",
   "name": "python",
   "nbconvert_exporter": "python",
   "pygments_lexer": "ipython3",
   "version": "3.8.8"
  }
 },
 "nbformat": 4,
 "nbformat_minor": 5
}
